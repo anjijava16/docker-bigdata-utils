{
 "cells": [
  {
   "cell_type": "code",
   "execution_count": 3,
   "metadata": {},
   "outputs": [
    {
     "name": "stdout",
     "output_type": "stream",
     "text": [
      "Collecting mysql-connector-python\n",
      "  Downloading mysql_connector_python-8.0.21-cp38-cp38-manylinux1_x86_64.whl (15.8 MB)\n",
      "\u001b[K     |████████████████████████████████| 15.8 MB 12.0 MB/s eta 0:00:01   |███▌                            | 1.8 MB 1.7 MB/s eta 0:00:09\n",
      "\u001b[?25hRequirement already satisfied: protobuf>=3.0.0 in /opt/conda/lib/python3.8/site-packages (from mysql-connector-python) (3.12.4)\n",
      "Requirement already satisfied: six>=1.9 in /opt/conda/lib/python3.8/site-packages (from protobuf>=3.0.0->mysql-connector-python) (1.15.0)\n",
      "Requirement already satisfied: setuptools in /opt/conda/lib/python3.8/site-packages (from protobuf>=3.0.0->mysql-connector-python) (49.6.0.post20200814)\n",
      "Installing collected packages: mysql-connector-python\n",
      "Successfully installed mysql-connector-python-8.0.21\n"
     ]
    }
   ],
   "source": [
    "!pip3 install mysql-connector-python"
   ]
  },
  {
   "cell_type": "code",
   "execution_count": 30,
   "metadata": {},
   "outputs": [],
   "source": [
    "import mysql.connector"
   ]
  },
  {
   "cell_type": "code",
   "execution_count": 31,
   "metadata": {},
   "outputs": [],
   "source": [
    "table_schema = \"\"\"\n",
    "    \n",
    "    CREATE TABLE IF NOT EXISTS groups(\n",
    "    group_id int(11) NOT NULL AUTO_INCREMENT,\n",
    "    group_number char(4) NOT NULL,\n",
    "    description VARCHAR(100),\n",
    "    something_important int(11),\n",
    "    PRIMARY KEY (group_id),\n",
    "    KEY group_number (group_number)\n",
    "    ) ENGINE=InnoDB\n",
    "\"\"\""
   ]
  },
  {
   "cell_type": "code",
   "execution_count": 54,
   "metadata": {},
   "outputs": [],
   "source": [
    "context = mysql.connector.connect(\n",
    "    host = 'mysql',\n",
    "    port=3306,\n",
    "    user='user',\n",
    "    password='password')\n",
    "cursor = context.cursor()\n",
    "cursor.execute(\"USE school\")"
   ]
  },
  {
   "cell_type": "code",
   "execution_count": null,
   "metadata": {},
   "outputs": [],
   "source": [
    "\n",
    "cursor.execute(table_schema)"
   ]
  },
  {
   "cell_type": "code",
   "execution_count": 41,
   "metadata": {},
   "outputs": [],
   "source": [
    "some_data = \"\"\"\n",
    "INSERT INTO groups\n",
    "(group_number, description, something_important)\n",
    "VALUES\n",
    "('1A','some group',100),\n",
    "('2A','some group',102),\n",
    "('3A','some group',101),\n",
    "('1B','some group',123),\n",
    "('2B','some group',133),\n",
    "('3B','some group',144);\n",
    "\"\"\""
   ]
  },
  {
   "cell_type": "code",
   "execution_count": 55,
   "metadata": {},
   "outputs": [],
   "source": [
    "cursor.execute(some_data)\n",
    "context.commit()"
   ]
  }
 ],
 "metadata": {
  "kernelspec": {
   "display_name": "Python 3",
   "language": "python",
   "name": "python3"
  },
  "language_info": {
   "codemirror_mode": {
    "name": "ipython",
    "version": 3
   },
   "file_extension": ".py",
   "mimetype": "text/x-python",
   "name": "python",
   "nbconvert_exporter": "python",
   "pygments_lexer": "ipython3",
   "version": "3.8.5"
  }
 },
 "nbformat": 4,
 "nbformat_minor": 4
}
